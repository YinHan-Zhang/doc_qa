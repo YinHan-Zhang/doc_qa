{
 "cells": [
  {
   "cell_type": "code",
   "execution_count": 2,
   "metadata": {},
   "outputs": [],
   "source": [
    "import pandas as pd\n",
    "import json\n",
    "import tqdm"
   ]
  },
  {
   "cell_type": "code",
   "execution_count": 6,
   "metadata": {},
   "outputs": [],
   "source": [
    "with open(\"hotel_data.json\",\"r\") as f:\n",
    "    hotel = json.load(f)\n",
    "\n",
    "hotel = [{\"title\": \"\".join(i.split(\";\")[:2]) ,\"content\":i} for i in hotel]\n",
    "\n",
    "with open(\"hotel_data_v2.json\",\"w\") as f:\n",
    "    hotel = json.dump(hotel, f, indent=4, ensure_ascii=False)\n",
    "hotel"
   ]
  },
  {
   "cell_type": "code",
   "execution_count": 48,
   "metadata": {},
   "outputs": [],
   "source": [
    "def format_data(data_name):\n",
    "    with open(f\"./cls_data/{data_name}.json\",\"r\") as f:\n",
    "        data = json.load(f)\n",
    "\n",
    "    # data = [{\"title\": \"\".join(i.split(\";\")[:1]) ,\"content\":\"\".join(i.split(\";\")[1:])} for i in data]\n",
    "    data = [{\"title\": i.replace(\"简介:nan\",\"\") ,\"content\": i.replace(\"简介:nan\",\"\")} for i in data]\n",
    "\n",
    "    with open(f\"./sample_data/{data_name}_v2.json\",\"w\") as f:\n",
    "        data = json.dump(data, f, indent=4, ensure_ascii=False)\n",
    "    print(\"write success!\")\n"
   ]
  },
  {
   "cell_type": "code",
   "execution_count": 49,
   "metadata": {},
   "outputs": [
    {
     "name": "stdout",
     "output_type": "stream",
     "text": [
      "write success!\n"
     ]
    }
   ],
   "source": [
    "data_name = \"scenary_data\"\n",
    "format_data(data_name)"
   ]
  },
  {
   "cell_type": "code",
   "execution_count": 14,
   "metadata": {},
   "outputs": [
    {
     "name": "stdout",
     "output_type": "stream",
     "text": [
      "scenary_data_v2,sample 3000\n",
      "resturant_data_v2,sample 2000\n",
      "qa_data_v2,sample 1204\n",
      "news_data_v2,sample 3000\n",
      "hotel_data_v2,sample 1206\n",
      "product_data_v2,sample 3000\n",
      "kg_data_v2,sample 3000\n",
      "抽样最终数据数量: 16410\n",
      "write success!\n"
     ]
    }
   ],
   "source": [
    "import random\n",
    "\n",
    "def sample_data(data_name):\n",
    "    res = []\n",
    "    eval_data = []\n",
    "    with open(f\"all_data.json\",\"w\") as file:\n",
    "        for d in data_name:\n",
    "            with open(f\"./sample_data/{d}.json\",\"r\") as f:\n",
    "                data = json.load(f)\n",
    "               \n",
    "            random.shuffle(data)\n",
    "            if len(data) < 3000 :\n",
    "                eval_data.extend(data[:100])\n",
    "                res.extend(data)\n",
    "                print(f\"{d},sample {len(data)}\")\n",
    "            else:\n",
    "                eval_data.extend(data[:100])\n",
    "                res.extend(data[:3000])\n",
    "                print(f\"{d},sample 3000\")\n",
    "\n",
    "        \n",
    "        random.shuffle(res)\n",
    "        print(\"抽样最终数据数量:\",len(res))\n",
    "        json.dump(res, file, indent=4, ensure_ascii=False)\n",
    "        random.shuffle(eval_data)\n",
    "        \n",
    "        with open(f\"eval_data.json\",\"w\") as eval_file:\n",
    "            json.dump(eval_data, eval_file, indent=4, ensure_ascii=False)\n",
    "        print(\"write success!\")\n",
    "\n",
    "sample_data([\"scenary_data_v2\",\"resturant_data_v2\",\"qa_data_v2\",\"news_data_v2\",\"hotel_data_v2\",\"product_data_v2\",\"kg_data_v2\"])"
   ]
  },
  {
   "cell_type": "code",
   "execution_count": 10,
   "metadata": {},
   "outputs": [
    {
     "data": {
      "text/plain": [
       "\"['1', 2]\""
      ]
     },
     "execution_count": 10,
     "metadata": {},
     "output_type": "execute_result"
    }
   ],
   "source": []
  }
 ],
 "metadata": {
  "kernelspec": {
   "display_name": "llm_chat",
   "language": "python",
   "name": "python3"
  },
  "language_info": {
   "codemirror_mode": {
    "name": "ipython",
    "version": 3
   },
   "file_extension": ".py",
   "mimetype": "text/x-python",
   "name": "python",
   "nbconvert_exporter": "python",
   "pygments_lexer": "ipython3",
   "version": "3.8.18"
  }
 },
 "nbformat": 4,
 "nbformat_minor": 2
}
