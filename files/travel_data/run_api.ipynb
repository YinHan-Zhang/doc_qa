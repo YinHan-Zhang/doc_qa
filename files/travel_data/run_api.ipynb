{
 "cells": [
  {
   "cell_type": "code",
   "execution_count": 11,
   "id": "initial_id",
   "metadata": {
    "ExecuteTime": {
     "end_time": "2024-04-16T07:29:37.267801Z",
     "start_time": "2024-04-16T07:29:37.239265Z"
    },
    "collapsed": true
   },
   "outputs": [],
   "source": [
    "# For prerequisites running the following sample, visit https://help.aliyun.com/document_detail/611472.html\n",
    "from http import HTTPStatus\n",
    "import dashscope\n",
    "import os\n",
    "\n",
    "\n",
    "dashscope.api_key = \"sk-db10d05e219d4ba2836874d2b503d1f1\""
   ]
  },
  {
   "cell_type": "markdown",
   "id": "dd955945f4bed766",
   "metadata": {
    "collapsed": false
   },
   "source": [
    "# 使用同步调用接口"
   ]
  },
  {
   "cell_type": "code",
   "execution_count": 30,
   "id": "83de11b8b811dad3",
   "metadata": {
    "ExecuteTime": {
     "end_time": "2024-04-16T07:41:51.354451Z",
     "start_time": "2024-04-16T07:41:37.319557Z"
    },
    "collapsed": false
   },
   "outputs": [
    {
     "name": "stdout",
     "output_type": "stream",
     "text": [
      "{\"text\": \"这是一个简单的三道菜谱，使用萝卜、土豆和茄子作为主要食材：\\n\\n1. **红烧茄子**: \\n   - 材料：茄子，土豆，胡萝卜，葱姜蒜，酱油，糖，盐，水淀粉\\n   - 做法：茄子切段，土豆和胡萝卜切块。热锅凉油，加入糖炒至红色，加入茄子翻煎至微黄。加入葱姜蒜爆香，然后放入土豆和胡萝卜翻炒。倒入酱油，加水没过食材，小火慢炖至软烂，最后用水淀粉勾芡即可。\\n\\n2. **清炒土豆丝**：\\n   - 材料：土豆，胡萝卜，葱，盐，食用油\\n   - 做法：土豆和胡萝卜削皮切细丝，葱切末。热锅凉油，油热后加入葱末炒出香味，再加入土豆丝和胡萝卜丝快速翻炒。炒至土豆丝和胡萝卜丝变软，加盐调味，翻炒均匀后出锅。\\n\\n3. **萝卜炖排骨**：\\n   - 材料：排骨，萝卜，生姜，料酒，盐\\n   - 做法：排骨焯水去血沫，萝卜切块，生姜切片。锅中加油，下入生姜片炒香，再加入排骨翻煎至两面微黄。加入料酒去腥，然后加水大火烧开，撇去浮沫，转小火慢炖30分钟。加入萝卜块，继续炖煮20分钟，最后加盐调味即可。\\n\\n这三道菜品结合了炒、炖两种烹饪方式，既有鲜美的红烧茄子，也有清淡的清炒土豆丝和营养丰富的萝卜炖排骨，既健康又美味。\", \"finish_reason\": \"stop\", \"choices\": null}\n",
      "{\"input_tokens\": 32, \"output_tokens\": 370, \"total_tokens\": 402}\n"
     ]
    }
   ],
   "source": [
    "def sample_sync_call(prompt_text):\n",
    "    resp = dashscope.Generation.call(\n",
    "        model='qwen-plus',\n",
    "        prompt=prompt_text\n",
    "    )\n",
    "    # The response status_code is HTTPStatus.OK indicate success,\n",
    "    # otherwise indicate request is failed, you can get error code\n",
    "    # and message from code and message.\n",
    "    if resp.status_code == HTTPStatus.OK:\n",
    "        print(resp.output)  # The output text\n",
    "        print(resp.usage)  # The usage information\n",
    "    else:\n",
    "        print(resp.code)  # The error code.\n",
    "        print(resp.message)  # The error message.\n",
    "\n",
    "\n",
    "sample_sync_call('用萝卜、土豆、茄子做饭，给我个菜谱。')"
   ]
  },
  {
   "cell_type": "markdown",
   "id": "70153ec1345f6c66",
   "metadata": {
    "collapsed": false
   },
   "source": [
    "# 通过chain + prompt的方式调用"
   ]
  },
  {
   "cell_type": "code",
   "execution_count": 31,
   "id": "bf6b9ee33d287a4f",
   "metadata": {
    "ExecuteTime": {
     "end_time": "2024-04-16T07:44:28.073019Z",
     "start_time": "2024-04-16T07:44:28.050915Z"
    },
    "collapsed": false
   },
   "outputs": [],
   "source": [
    "from langchain_community.llms import Tongyi"
   ]
  },
  {
   "cell_type": "code",
   "execution_count": 32,
   "id": "4ea66bb70f5b6926",
   "metadata": {
    "ExecuteTime": {
     "end_time": "2024-04-16T07:44:31.328446Z",
     "start_time": "2024-04-16T07:44:28.288114Z"
    },
    "collapsed": false
   },
   "outputs": [
    {
     "data": {
      "text/plain": [
       "'Justin Bieber was born on March 1, 1994. The Super Bowl that took place in the same year was Super Bowl XXVIII, which was won by the Dallas Cowboys. They defeated the Buffalo Bills with a score of 30-13 on January 30, 1994.'"
      ]
     },
     "execution_count": 32,
     "metadata": {},
     "output_type": "execute_result"
    }
   ],
   "source": [
    "Tongyi().invoke(\"What NFL team won the Super Bowl in the year Justin Bieber was born?\")"
   ]
  },
  {
   "cell_type": "code",
   "execution_count": 33,
   "id": "12dec5830d7ad9bd",
   "metadata": {
    "ExecuteTime": {
     "end_time": "2024-04-16T07:44:34.192153Z",
     "start_time": "2024-04-16T07:44:31.330583Z"
    },
    "collapsed": false
   },
   "outputs": [
    {
     "data": {
      "text/plain": [
       "'Justin Bieber was born on March 1, 1994. The Super Bowl that took place in the same year was Super Bowl XXVIII. The winner of that game was the Dallas Cowboys. They defeated the Buffalo Bills with a score of 30-13 on January 30, 1994.'"
      ]
     },
     "execution_count": 33,
     "metadata": {},
     "output_type": "execute_result"
    }
   ],
   "source": [
    "llm = Tongyi()\n",
    "\n",
    "from langchain import PromptTemplate\n",
    "\n",
    "template = \"\"\"Question: {question}\n",
    "\n",
    "Answer: \"\"\"\n",
    "prompt = PromptTemplate(\n",
    "    template=template,\n",
    "    input_variables=['question']\n",
    ")\n",
    "\n",
    "chain = prompt | llm\n",
    "# user question\n",
    "question = \"What NFL team won the Super Bowl in the year Justin Bieber was born?\"\n",
    "\n",
    "chain.invoke({\"question\": question})"
   ]
  },
  {
   "cell_type": "code",
   "execution_count": 40,
   "id": "448fc6376ae885d5",
   "metadata": {
    "ExecuteTime": {
     "end_time": "2024-04-16T08:20:12.090825Z",
     "start_time": "2024-04-16T08:20:12.066030Z"
    },
    "collapsed": false
   },
   "outputs": [
    {
     "data": {
      "text/plain": [
       "'Question: What NFL team won the Super Bowl in the year Justin Bieber was born?\\n\\nAnswer: '"
      ]
     },
     "execution_count": 40,
     "metadata": {},
     "output_type": "execute_result"
    }
   ],
   "source": [
    "prompt.format(question=\"What NFL team won the Super Bowl in the year Justin Bieber was born?\")"
   ]
  },
  {
   "cell_type": "markdown",
   "id": "5e5cc221f8fc2ee2",
   "metadata": {
    "collapsed": false
   },
   "source": [
    "# 流式调用"
   ]
  },
  {
   "cell_type": "code",
   "execution_count": 34,
   "id": "5be0c985fe2a19c0",
   "metadata": {
    "ExecuteTime": {
     "end_time": "2024-04-16T07:44:49.436460Z",
     "start_time": "2024-04-16T07:44:46.012421Z"
    },
    "collapsed": false
   },
   "outputs": [
    {
     "name": "stdout",
     "output_type": "stream",
     "text": [
      "qwen-plus\n",
      "chat resp: content='我是' id='run-95674167-1a72-4bb3-be40-8898ad03cc7a'\n",
      "chat resp: content='来自' id='run-95674167-1a72-4bb3-be40-8898ad03cc7a'\n",
      "chat resp: content='阿里' id='run-95674167-1a72-4bb3-be40-8898ad03cc7a'\n",
      "chat resp: content='云的超大规模语言' id='run-95674167-1a72-4bb3-be40-8898ad03cc7a'\n",
      "chat resp: content='模型，我叫通义千问' id='run-95674167-1a72-4bb3-be40-8898ad03cc7a'\n",
      "chat resp: content='。关于我的具体参数量等技术' id='run-95674167-1a72-4bb3-be40-8898ad03cc7a'\n",
      "chat resp: content='细节，由于涉及敏感信息，我' id='run-95674167-1a72-4bb3-be40-8898ad03cc7a'\n",
      "chat resp: content='无法提供准确的数值。但可以' id='run-95674167-1a72-4bb3-be40-8898ad03cc7a'\n",
      "chat resp: content='肯定的是，我是一个经过大量训练' id='run-95674167-1a72-4bb3-be40-8898ad03cc7a'\n",
      "chat resp: content='和优化的大型预训练模型，' id='run-95674167-1a72-4bb3-be40-8898ad03cc7a'\n",
      "chat resp: content='能够提供高质量的文本生成和问题' id='run-95674167-1a72-4bb3-be40-8898ad03cc7a'\n",
      "chat resp: content='解答能力。如果您有任何问题，欢迎' id='run-95674167-1a72-4bb3-be40-8898ad03cc7a'\n",
      "chat resp: content='随时向我提问。' id='run-95674167-1a72-4bb3-be40-8898ad03cc7a'\n",
      "chat resp: content='' response_metadata={'finish_reason': 'stop', 'request_id': '32a76870-ef94-9d0b-a003-164bc45915f5', 'token_usage': {'input_tokens': 39, 'output_tokens': 77, 'total_tokens': 116}} id='run-95674167-1a72-4bb3-be40-8898ad03cc7a'\n"
     ]
    }
   ],
   "source": [
    "from langchain_community.chat_models.tongyi import ChatTongyi\n",
    "from langchain_core.messages import HumanMessage\n",
    "\n",
    "chatLLM = ChatTongyi(\n",
    "    streaming=True,\n",
    ")\n",
    "chatLLM.model_name = 'qwen-plus'\n",
    "print(chatLLM.model_name)\n",
    "res = chatLLM.stream([HumanMessage(content=\"你是千问的哪个模型72b、1.8b还是turbo、plus？\")], streaming=True)\n",
    "for r in res:\n",
    "    print(\"chat resp:\", r)"
   ]
  },
  {
   "cell_type": "markdown",
   "id": "9d2f7fea8cd2472f",
   "metadata": {
    "collapsed": false
   },
   "source": [
    "# multi role prompt"
   ]
  },
  {
   "cell_type": "code",
   "execution_count": 35,
   "id": "be8242ff2dbd3b4a",
   "metadata": {
    "ExecuteTime": {
     "end_time": "2024-04-16T07:46:44.222946Z",
     "start_time": "2024-04-16T07:46:43.350987Z"
    },
    "collapsed": false
   },
   "outputs": [
    {
     "data": {
      "text/plain": [
       "AIMessage(content='我喜欢编程。', response_metadata={'model_name': 'qwen-plus', 'finish_reason': 'stop', 'request_id': '1f6d6235-bd35-93f1-b974-73a634b7679d', 'token_usage': {'input_tokens': 36, 'output_tokens': 3, 'total_tokens': 39}}, id='run-b3ac8ace-bbca-447e-936d-ad1a9e5a626c-0')"
      ]
     },
     "execution_count": 35,
     "metadata": {},
     "output_type": "execute_result"
    }
   ],
   "source": [
    "from langchain_core.messages import HumanMessage, SystemMessage\n",
    "\n",
    "messages = [\n",
    "    SystemMessage(\n",
    "        content=\"You are a helpful assistant that translates English to Chinese.\"\n",
    "    ),\n",
    "    HumanMessage(\n",
    "        content=\"Translate this sentence from English to Chinese. I love programming.\"\n",
    "    ),\n",
    "]\n",
    "chatLLM(messages)"
   ]
  },
  {
   "cell_type": "code",
   "execution_count": null,
   "id": "c8616deaeb5de0d1",
   "metadata": {
    "collapsed": false
   },
   "outputs": [],
   "source": []
  }
 ],
 "metadata": {
  "kernelspec": {
   "display_name": "Python 3",
   "language": "python",
   "name": "python3"
  },
  "language_info": {
   "codemirror_mode": {
    "name": "ipython",
    "version": 2
   },
   "file_extension": ".py",
   "mimetype": "text/x-python",
   "name": "python",
   "nbconvert_exporter": "python",
   "pygments_lexer": "ipython2",
   "version": "3.8.18"
  }
 },
 "nbformat": 4,
 "nbformat_minor": 5
}
