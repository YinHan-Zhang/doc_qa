{
 "cells": [
  {
   "cell_type": "code",
   "execution_count": 2,
   "metadata": {},
   "outputs": [],
   "source": [
    "from zhipuai import ZhipuAI\n",
    "\n",
    "ZHIPU_API_KEY = \"90a8b0d5ca5a79b6a851efaa2e162790.yYu8gHh8QOH0SqCF\"\n",
    "client = ZhipuAI(api_key=ZHIPU_API_KEY) \n",
    "response = client.embeddings.create(\n",
    "    model=\"embedding-2\", #填写需要调用的模型名称\n",
    "    input=\"你好啊\"\n",
    ")"
   ]
  },
  {
   "cell_type": "code",
   "execution_count": 14,
   "metadata": {},
   "outputs": [
    {
     "data": {
      "text/plain": [
       "1024"
      ]
     },
     "execution_count": 14,
     "metadata": {},
     "output_type": "execute_result"
    }
   ],
   "source": [
    "len(eval(response.model_dump_json())[\"data\"][0][\"embedding\"])"
   ]
  },
  {
   "cell_type": "code",
   "execution_count": 65,
   "metadata": {},
   "outputs": [],
   "source": [
    "import sys\n",
    "sys.path.append(\"/Users/zhangyinhan1/Desktop/code/rag_project/llm_4_doc_qa\")\n",
    "from config.tools import tools\n",
    "\n",
    "query = \"你能帮我查询北京2023年1月1日的天气吗？我要出门游玩。\"\n",
    "\n",
    "payload = {\n",
    "        \"model\": 'glm-4',\n",
    "        \"messages\": [\n",
    "            {\n",
    "                \"role\": \"system\",\n",
    "                \"content\": \"你是一个出色的问答助手，回答要合理、简洁，回复语言采用中文。\\n\"\n",
    "            },\n",
    "            {\n",
    "                \"role\": \"user\",\n",
    "                \"content\": query\n",
    "            }\n",
    "        ],\n",
    "        \"temperature\": 0.8,\n",
    "        \"max_tokens\": 300\n",
    "    }\n",
    "\n",
    "from zhipuai import ZhipuAI\n",
    "client = ZhipuAI(api_key=ZHIPU_API_KEY) # 填写您自己的APIKey\n",
    "response = client.chat.completions.create(\n",
    "    **payload,\n",
    "    tools=tools\n",
    ")\n"
   ]
  },
  {
   "cell_type": "code",
   "execution_count": 61,
   "metadata": {},
   "outputs": [
    {
     "data": {
      "text/plain": [
       "Completion(model='glm-4', created=1705893386, choices=[CompletionChoice(index=0, finish_reason='stop', message=CompletionMessage(content='很抱歉，我无法查询未来的天气信息。建议您关注天气预报，提前做好准备。', role='assistant', tool_calls=None))], request_id='8313803448028644232', id='8313803448028644232', usage=CompletionUsage(prompt_tokens=216, completion_tokens=20, total_tokens=236))"
      ]
     },
     "execution_count": 61,
     "metadata": {},
     "output_type": "execute_result"
    }
   ],
   "source": [
    "response"
   ]
  },
  {
   "cell_type": "code",
   "execution_count": 66,
   "metadata": {},
   "outputs": [
    {
     "data": {
      "text/plain": [
       "'你需要查询的是北京2023年1月1日的天气情况，是吗？'"
      ]
     },
     "execution_count": 66,
     "metadata": {},
     "output_type": "execute_result"
    }
   ],
   "source": [
    "response.choices[0].message.content"
   ]
  },
  {
   "cell_type": "code",
   "execution_count": 44,
   "metadata": {},
   "outputs": [
    {
     "name": "stderr",
     "output_type": "stream",
     "text": [
      "/var/folders/5f/kdmj10ms45qbhs7gg2860ytr0000gp/T/ipykernel_52279/1842835377.py:2: PydanticDeprecatedSince20: The `json` method is deprecated; use `model_dump_json` instead. Deprecated in Pydantic V2.0 to be removed in V3.0. See Pydantic V2 Migration Guide at https://errors.pydantic.dev/2.5/migration/\n",
      "  json.loads(response.json())\n"
     ]
    },
    {
     "data": {
      "text/plain": [
       "{'model': 'glm-4',\n",
       " 'created': 1705846046,\n",
       " 'choices': [{'index': 0,\n",
       "   'finish_reason': 'stop',\n",
       "   'message': {'content': '根据提供的文本片段，并没有提到格里芬本人发表演说的内容。文中主要是马祖拉和霍福德对格里芬在场上的表现发表的看法。马祖拉认为当格里芬在场上时，其他队员的表现都会变好；霍福德也表达了格里芬对球队整体表现的提升作用，以及对格里芬获得出场时间的高兴之情。所以，关于格里芬本人的演说内容，文本中并没有具体信息。',\n",
       "    'role': 'assistant',\n",
       "    'tool_calls': None}}],\n",
       " 'request_id': '8313802760833856253',\n",
       " 'id': '8313802760833856253',\n",
       " 'usage': {'prompt_tokens': 173, 'completion_tokens': 91, 'total_tokens': 264}}"
      ]
     },
     "execution_count": 44,
     "metadata": {},
     "output_type": "execute_result"
    }
   ],
   "source": [
    "import json\n",
    "json.loads(response.json())\n",
    "# ['choices'][0]['message']['content']"
   ]
  }
 ],
 "metadata": {
  "kernelspec": {
   "display_name": "llm_chat",
   "language": "python",
   "name": "python3"
  },
  "language_info": {
   "codemirror_mode": {
    "name": "ipython",
    "version": 3
   },
   "file_extension": ".py",
   "mimetype": "text/x-python",
   "name": "python",
   "nbconvert_exporter": "python",
   "pygments_lexer": "ipython3",
   "version": "3.8.18"
  }
 },
 "nbformat": 4,
 "nbformat_minor": 2
}
